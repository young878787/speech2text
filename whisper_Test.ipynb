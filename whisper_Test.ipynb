{
  "nbformat": 4,
  "nbformat_minor": 0,
  "metadata": {
    "colab": {
      "provenance": [],
      "gpuType": "T4",
      "include_colab_link": true
    },
    "kernelspec": {
      "name": "python3",
      "display_name": "Python 3"
    },
    "language_info": {
      "name": "python"
    },
    "accelerator": "GPU"
  },
  "cells": [
    {
      "cell_type": "markdown",
      "metadata": {
        "id": "view-in-github",
        "colab_type": "text"
      },
      "source": [
        "<a href=\"https://colab.research.google.com/github/young878787/speech2text/blob/main/whisper_Test.ipynb\" target=\"_parent\"><img src=\"https://colab.research.google.com/assets/colab-badge.svg\" alt=\"Open In Colab\"/></a>"
      ]
    },
    {
      "cell_type": "markdown",
      "source": [
        "# 語音轉文字 AI 工具\n",
        "本工具使用 [OpenAI 的開源工具 Whisper](https://github.com/openai/whisper) 模型, 可以相對精準的將隨語音轉文字。\n",
        "\n",
        "# (一) 選擇適合的運作環境： T4 GPU\n",
        "本 Colab 虛擬機器使用為免費、多GPU的環境。已指定 T4 GPU 版本。\n",
        "\n",
        "若由  Github 直接開啟，可以忽略此說明。"
      ],
      "metadata": {
        "id": "Z8j9agRoP2Ef"
      }
    },
    {
      "cell_type": "code",
      "execution_count": 14,
      "metadata": {
        "id": "ESQe_Qm7Ceoz",
        "outputId": "8e4f207f-bdc2-468b-aeff-8729f258da4a",
        "colab": {
          "base_uri": "https://localhost:8080/"
        }
      },
      "outputs": [
        {
          "output_type": "stream",
          "name": "stdout",
          "text": [
            "Collecting git+https://github.com/openai/whisper.git\n",
            "  Cloning https://github.com/openai/whisper.git to /tmp/pip-req-build-acpozn5r\n",
            "  Running command git clone --filter=blob:none --quiet https://github.com/openai/whisper.git /tmp/pip-req-build-acpozn5r\n",
            "  Resolved https://github.com/openai/whisper.git to commit dd985ac4b90cafeef8712f2998d62c59c3e62d22\n",
            "  Installing build dependencies ... \u001b[?25l\u001b[?25hdone\n",
            "  Getting requirements to build wheel ... \u001b[?25l\u001b[?25hdone\n",
            "  Preparing metadata (pyproject.toml) ... \u001b[?25l\u001b[?25hdone\n",
            "Requirement already satisfied: more-itertools in /usr/local/lib/python3.11/dist-packages (from openai-whisper==20240930) (10.7.0)\n",
            "Requirement already satisfied: numba in /usr/local/lib/python3.11/dist-packages (from openai-whisper==20240930) (0.60.0)\n",
            "Requirement already satisfied: numpy in /usr/local/lib/python3.11/dist-packages (from openai-whisper==20240930) (2.0.2)\n",
            "Requirement already satisfied: tiktoken in /usr/local/lib/python3.11/dist-packages (from openai-whisper==20240930) (0.9.0)\n",
            "Requirement already satisfied: torch in /usr/local/lib/python3.11/dist-packages (from openai-whisper==20240930) (2.6.0+cu124)\n",
            "Requirement already satisfied: tqdm in /usr/local/lib/python3.11/dist-packages (from openai-whisper==20240930) (4.67.1)\n",
            "Requirement already satisfied: triton>=2 in /usr/local/lib/python3.11/dist-packages (from openai-whisper==20240930) (3.2.0)\n",
            "Requirement already satisfied: llvmlite<0.44,>=0.43.0dev0 in /usr/local/lib/python3.11/dist-packages (from numba->openai-whisper==20240930) (0.43.0)\n",
            "Requirement already satisfied: regex>=2022.1.18 in /usr/local/lib/python3.11/dist-packages (from tiktoken->openai-whisper==20240930) (2024.11.6)\n",
            "Requirement already satisfied: requests>=2.26.0 in /usr/local/lib/python3.11/dist-packages (from tiktoken->openai-whisper==20240930) (2.32.3)\n",
            "Requirement already satisfied: filelock in /usr/local/lib/python3.11/dist-packages (from torch->openai-whisper==20240930) (3.18.0)\n",
            "Requirement already satisfied: typing-extensions>=4.10.0 in /usr/local/lib/python3.11/dist-packages (from torch->openai-whisper==20240930) (4.13.2)\n",
            "Requirement already satisfied: networkx in /usr/local/lib/python3.11/dist-packages (from torch->openai-whisper==20240930) (3.4.2)\n",
            "Requirement already satisfied: jinja2 in /usr/local/lib/python3.11/dist-packages (from torch->openai-whisper==20240930) (3.1.6)\n",
            "Requirement already satisfied: fsspec in /usr/local/lib/python3.11/dist-packages (from torch->openai-whisper==20240930) (2025.3.2)\n",
            "Requirement already satisfied: nvidia-cuda-nvrtc-cu12==12.4.127 in /usr/local/lib/python3.11/dist-packages (from torch->openai-whisper==20240930) (12.4.127)\n",
            "Requirement already satisfied: nvidia-cuda-runtime-cu12==12.4.127 in /usr/local/lib/python3.11/dist-packages (from torch->openai-whisper==20240930) (12.4.127)\n",
            "Requirement already satisfied: nvidia-cuda-cupti-cu12==12.4.127 in /usr/local/lib/python3.11/dist-packages (from torch->openai-whisper==20240930) (12.4.127)\n",
            "Requirement already satisfied: nvidia-cudnn-cu12==9.1.0.70 in /usr/local/lib/python3.11/dist-packages (from torch->openai-whisper==20240930) (9.1.0.70)\n",
            "Requirement already satisfied: nvidia-cublas-cu12==12.4.5.8 in /usr/local/lib/python3.11/dist-packages (from torch->openai-whisper==20240930) (12.4.5.8)\n",
            "Requirement already satisfied: nvidia-cufft-cu12==11.2.1.3 in /usr/local/lib/python3.11/dist-packages (from torch->openai-whisper==20240930) (11.2.1.3)\n",
            "Requirement already satisfied: nvidia-curand-cu12==10.3.5.147 in /usr/local/lib/python3.11/dist-packages (from torch->openai-whisper==20240930) (10.3.5.147)\n",
            "Requirement already satisfied: nvidia-cusolver-cu12==11.6.1.9 in /usr/local/lib/python3.11/dist-packages (from torch->openai-whisper==20240930) (11.6.1.9)\n",
            "Requirement already satisfied: nvidia-cusparse-cu12==12.3.1.170 in /usr/local/lib/python3.11/dist-packages (from torch->openai-whisper==20240930) (12.3.1.170)\n",
            "Requirement already satisfied: nvidia-cusparselt-cu12==0.6.2 in /usr/local/lib/python3.11/dist-packages (from torch->openai-whisper==20240930) (0.6.2)\n",
            "Requirement already satisfied: nvidia-nccl-cu12==2.21.5 in /usr/local/lib/python3.11/dist-packages (from torch->openai-whisper==20240930) (2.21.5)\n",
            "Requirement already satisfied: nvidia-nvtx-cu12==12.4.127 in /usr/local/lib/python3.11/dist-packages (from torch->openai-whisper==20240930) (12.4.127)\n",
            "Requirement already satisfied: nvidia-nvjitlink-cu12==12.4.127 in /usr/local/lib/python3.11/dist-packages (from torch->openai-whisper==20240930) (12.4.127)\n",
            "Requirement already satisfied: sympy==1.13.1 in /usr/local/lib/python3.11/dist-packages (from torch->openai-whisper==20240930) (1.13.1)\n",
            "Requirement already satisfied: mpmath<1.4,>=1.1.0 in /usr/local/lib/python3.11/dist-packages (from sympy==1.13.1->torch->openai-whisper==20240930) (1.3.0)\n",
            "Requirement already satisfied: charset-normalizer<4,>=2 in /usr/local/lib/python3.11/dist-packages (from requests>=2.26.0->tiktoken->openai-whisper==20240930) (3.4.2)\n",
            "Requirement already satisfied: idna<4,>=2.5 in /usr/local/lib/python3.11/dist-packages (from requests>=2.26.0->tiktoken->openai-whisper==20240930) (3.10)\n",
            "Requirement already satisfied: urllib3<3,>=1.21.1 in /usr/local/lib/python3.11/dist-packages (from requests>=2.26.0->tiktoken->openai-whisper==20240930) (2.4.0)\n",
            "Requirement already satisfied: certifi>=2017.4.17 in /usr/local/lib/python3.11/dist-packages (from requests>=2.26.0->tiktoken->openai-whisper==20240930) (2025.4.26)\n",
            "Requirement already satisfied: MarkupSafe>=2.0 in /usr/local/lib/python3.11/dist-packages (from jinja2->torch->openai-whisper==20240930) (3.0.2)\n"
          ]
        }
      ],
      "source": [
        "# @title (1) 安裝 whisper\n",
        "!pip install git+https://github.com/openai/whisper.git"
      ]
    },
    {
      "cell_type": "markdown",
      "source": [
        "### (2) 掛載雲端硬碟\n",
        "1. 透過 Coloab 左邊的操作介面掛載\n",
        "2. 上傳音檔/影像檔到 Google drive\n",
        "  - 個人偏好在 Google drive 建一個 tmp 資料夾\n",
        "  - 將音檔上傳到 tmp 資料夾\n",
        "  - 在 Colab 左邊的掛載介面找到 drive => MyDrive => tmp\n",
        "  - 點選上載的音檔，按滑鼠右鍵，點選 複製路徑\n",
        "3. 將複製的路徑貼到轉檔區塊的 filenames 欄位中\n"
      ],
      "metadata": {
        "id": "vj1rk1zOKoh7"
      }
    },
    {
      "cell_type": "code",
      "source": [
        "# @title ✅ Whisper 語音轉錄 + 自動上傳回 Google Drive { display-mode: \"form\" }\n",
        "# @markdown ---\n",
        "# @markdown 📂 輸入音訊檔案路徑（Google Drive 中）\n",
        "filename = \"/content/drive/MyDrive/tmp/視聴者さん☆ファッションチェック！！！【潤羽るしあ⧸ホロライブ】 (2).m4a\"  # @param {type:\"string\"}\n",
        "\n",
        "# @markdown 🧠 Whisper 模型大小\n",
        "model_size = \"medium\"  # @param [\"tiny\", \"base\", \"small\", \"medium\", \"large-v2\"]\n",
        "\n",
        "# @markdown 🌏 音訊語言代碼（ja=日文、zh=中文、en=英文）\n",
        "language = \"ja\"  # @param {type:\"string\"}\n",
        "\n",
        "# @markdown ⏱️ 每段切幾分鐘（5~10 較穩定）\n",
        "segment_minutes = 10  # @param {type:\"number\"}\n",
        "\n",
        "# @markdown ---\n",
        "# @markdown 🔧 安裝必要套件\n",
        "!pip install -U openai-whisper ffmpeg-python tqdm --quiet\n",
        "\n",
        "import os\n",
        "import whisper\n",
        "import ffmpeg\n",
        "from tqdm import tqdm\n",
        "from datetime import timedelta\n",
        "import shutil\n",
        "\n",
        "# 取得檔案名稱與輸出資料夾名稱\n",
        "file_basename = os.path.splitext(os.path.basename(filename))[0]\n",
        "drive_output_dir = f\"/content/drive/MyDrive/tmp/{file_basename}\"\n",
        "os.makedirs(drive_output_dir, exist_ok=True)\n",
        "\n",
        "# 切割參數\n",
        "segment_duration = int(segment_minutes * 60)\n",
        "base_dir = \"/content/split_audio\"\n",
        "os.makedirs(base_dir, exist_ok=True)\n",
        "\n",
        "# --- 1. 使用 ffmpeg 切割音訊 ---\n",
        "print(\"🔪 正在切割音訊...\")\n",
        "input_info = ffmpeg.probe(filename)\n",
        "duration = float(input_info['format']['duration'])\n",
        "num_segments = int(duration // segment_duration) + 1\n",
        "\n",
        "for i in range(num_segments):\n",
        "    start = i * segment_duration\n",
        "    output_path = os.path.join(base_dir, f\"part_{i:03d}.m4a\")\n",
        "    (\n",
        "        ffmpeg\n",
        "        .input(filename, ss=start, t=segment_duration)\n",
        "        .output(output_path, acodec='copy')\n",
        "        .run(overwrite_output=True, quiet=True)\n",
        "    )\n",
        "\n",
        "# --- 2. Whisper 轉錄 ---\n",
        "print(\"🧠 載入模型中...\")\n",
        "model = whisper.load_model(model_size)\n",
        "\n",
        "def format_timestamp(seconds: float):\n",
        "    return str(timedelta(seconds=int(seconds))).zfill(8) + \",000\"\n",
        "\n",
        "print(\"🎧 開始辨識音訊，共 {} 段...\".format(num_segments))\n",
        "all_text = \"\"\n",
        "\n",
        "for i in tqdm(range(num_segments)):\n",
        "    part_path = os.path.join(base_dir, f\"part_{i:03d}.m4a\")\n",
        "    result = model.transcribe(part_path, language=language)\n",
        "\n",
        "    # 儲存 .txt\n",
        "    with open(os.path.join(base_dir, f\"part_{i:03d}.txt\"), \"w\", encoding=\"utf-8\") as f:\n",
        "        f.write(result[\"text\"])\n",
        "\n",
        "    # 儲存 .srt\n",
        "    with open(os.path.join(base_dir, f\"part_{i:03d}.srt\"), \"w\", encoding=\"utf-8\") as f:\n",
        "        for j, seg in enumerate(result[\"segments\"], 1):\n",
        "            start = format_timestamp(seg[\"start\"])\n",
        "            end = format_timestamp(seg[\"end\"])\n",
        "            f.write(f\"{j}\\n{start} --> {end}\\n{seg['text']}\\n\\n\")\n",
        "\n",
        "    all_text += result[\"text\"] + \"\\n\"\n",
        "\n",
        "# 儲存總文字\n",
        "final_txt_path = \"/content/whisper_all_output.txt\"\n",
        "with open(final_txt_path, \"w\", encoding=\"utf-8\") as f:\n",
        "    f.write(all_text)\n",
        "\n",
        "# --- 3. 自動上傳回 Google Drive ---\n",
        "print(\"📤 上傳輸出檔到 Google Drive 中...\")\n",
        "for file in os.listdir(base_dir):\n",
        "    shutil.copy(os.path.join(base_dir, file), drive_output_dir)\n",
        "\n",
        "shutil.copy(final_txt_path, os.path.join(drive_output_dir, \"whisper_all_output.txt\"))\n",
        "\n",
        "# --- Done ---\n",
        "print(\"✅ 所有轉錄完成，已上傳到 Google Drive：\")\n",
        "print(f\"📁 資料夾路徑：{drive_output_dir}\")\n"
      ],
      "metadata": {
        "id": "t1k2RIWHDfhz",
        "outputId": "c7ad53ab-f5d8-4060-ae44-6cd6ca8b75fe",
        "colab": {
          "base_uri": "https://localhost:8080/"
        }
      },
      "execution_count": 16,
      "outputs": [
        {
          "output_type": "stream",
          "name": "stdout",
          "text": [
            "🔪 正在切割音訊...\n",
            "🧠 載入模型中...\n",
            "⏳ 正在轉檔中... 請稍候（防止閒置中）\n",
            "🎧 開始轉錄音訊，共 30 段...\n"
          ]
        },
        {
          "output_type": "stream",
          "name": "stderr",
          "text": [
            "\r  0%|          | 0/30 [00:00<?, ?it/s]"
          ]
        },
        {
          "output_type": "stream",
          "name": "stdout",
          "text": [
            "⏳ 正在轉檔中... 請稍候（防止閒置中）\n",
            "⏳ 正在轉檔中... 請稍候（防止閒置中）\n",
            "⏳ 正在轉檔中... 請稍候（防止閒置中）\n"
          ]
        },
        {
          "output_type": "stream",
          "name": "stderr",
          "text": [
            "\r  3%|▎         | 1/30 [02:52<1:23:09, 172.03s/it]"
          ]
        },
        {
          "output_type": "stream",
          "name": "stdout",
          "text": [
            "⏳ 正在轉檔中... 請稍候（防止閒置中）\n",
            "⏳ 正在轉檔中... 請稍候（防止閒置中）\n"
          ]
        },
        {
          "output_type": "stream",
          "name": "stderr",
          "text": [
            "\r  7%|▋         | 2/30 [05:25<1:15:04, 160.87s/it]"
          ]
        },
        {
          "output_type": "stream",
          "name": "stdout",
          "text": [
            "⏳ 正在轉檔中... 請稍候（防止閒置中）\n",
            "⏳ 正在轉檔中... 請稍候（防止閒置中）\n"
          ]
        },
        {
          "output_type": "stream",
          "name": "stderr",
          "text": [
            "\r 10%|█         | 3/30 [07:13<1:01:33, 136.80s/it]"
          ]
        },
        {
          "output_type": "stream",
          "name": "stdout",
          "text": [
            "⏳ 正在轉檔中... 請稍候（防止閒置中）\n",
            "⏳ 正在轉檔中... 請稍候（防止閒置中）\n"
          ]
        },
        {
          "output_type": "stream",
          "name": "stderr",
          "text": [
            "\r 13%|█▎        | 4/30 [08:47<51:55, 119.81s/it]  "
          ]
        },
        {
          "output_type": "stream",
          "name": "stdout",
          "text": [
            "⏳ 正在轉檔中... 請稍候（防止閒置中）\n",
            "⏳ 正在轉檔中... 請稍候（防止閒置中）\n"
          ]
        },
        {
          "output_type": "stream",
          "name": "stderr",
          "text": [
            "\r 17%|█▋        | 5/30 [11:01<52:04, 124.97s/it]"
          ]
        },
        {
          "output_type": "stream",
          "name": "stdout",
          "text": [
            "⏳ 正在轉檔中... 請稍候（防止閒置中）\n",
            "⏳ 正在轉檔中... 請稍候（防止閒置中）\n"
          ]
        },
        {
          "output_type": "stream",
          "name": "stderr",
          "text": [
            "\r 20%|██        | 6/30 [13:20<51:53, 129.74s/it]"
          ]
        },
        {
          "output_type": "stream",
          "name": "stdout",
          "text": [
            "⏳ 正在轉檔中... 請稍候（防止閒置中）\n",
            "⏳ 正在轉檔中... 請稍候（防止閒置中）\n"
          ]
        },
        {
          "output_type": "stream",
          "name": "stderr",
          "text": [
            "\r 23%|██▎       | 7/30 [15:08<47:01, 122.67s/it]"
          ]
        },
        {
          "output_type": "stream",
          "name": "stdout",
          "text": [
            "⏳ 正在轉檔中... 請稍候（防止閒置中）\n",
            "⏳ 正在轉檔中... 請稍候（防止閒置中）\n"
          ]
        },
        {
          "output_type": "stream",
          "name": "stderr",
          "text": [
            "\r 27%|██▋       | 8/30 [16:57<43:24, 118.41s/it]"
          ]
        },
        {
          "output_type": "stream",
          "name": "stdout",
          "text": [
            "⏳ 正在轉檔中... 請稍候（防止閒置中）\n",
            "⏳ 正在轉檔中... 請稍候（防止閒置中）\n"
          ]
        },
        {
          "output_type": "stream",
          "name": "stderr",
          "text": [
            "\r 30%|███       | 9/30 [18:36<39:18, 112.32s/it]"
          ]
        },
        {
          "output_type": "stream",
          "name": "stdout",
          "text": [
            "⏳ 正在轉檔中... 請稍候（防止閒置中）\n"
          ]
        },
        {
          "output_type": "stream",
          "name": "stderr",
          "text": [
            "\r 33%|███▎      | 10/30 [20:30<37:37, 112.88s/it]"
          ]
        },
        {
          "output_type": "stream",
          "name": "stdout",
          "text": [
            "⏳ 正在轉檔中... 請稍候（防止閒置中）\n",
            "⏳ 正在轉檔中... 請稍候（防止閒置中）\n"
          ]
        },
        {
          "output_type": "stream",
          "name": "stderr",
          "text": [
            "\r 37%|███▋      | 11/30 [21:59<33:22, 105.41s/it]"
          ]
        },
        {
          "output_type": "stream",
          "name": "stdout",
          "text": [
            "⏳ 正在轉檔中... 請稍候（防止閒置中）\n"
          ]
        },
        {
          "output_type": "stream",
          "name": "stderr",
          "text": [
            "\r 40%|████      | 12/30 [23:29<30:14, 100.79s/it]"
          ]
        },
        {
          "output_type": "stream",
          "name": "stdout",
          "text": [
            "⏳ 正在轉檔中... 請稍候（防止閒置中）\n",
            "⏳ 正在轉檔中... 請稍候（防止閒置中）\n"
          ]
        },
        {
          "output_type": "stream",
          "name": "stderr",
          "text": [
            "\r 43%|████▎     | 13/30 [25:07<28:21, 100.07s/it]"
          ]
        },
        {
          "output_type": "stream",
          "name": "stdout",
          "text": [
            "⏳ 正在轉檔中... 請稍候（防止閒置中）\n",
            "⏳ 正在轉檔中... 請稍候（防止閒置中）\n"
          ]
        },
        {
          "output_type": "stream",
          "name": "stderr",
          "text": [
            "\r 47%|████▋     | 14/30 [26:57<27:29, 103.08s/it]"
          ]
        },
        {
          "output_type": "stream",
          "name": "stdout",
          "text": [
            "⏳ 正在轉檔中... 請稍候（防止閒置中）\n",
            "⏳ 正在轉檔中... 請稍候（防止閒置中）\n"
          ]
        },
        {
          "output_type": "stream",
          "name": "stderr",
          "text": [
            "\r 50%|█████     | 15/30 [28:47<26:17, 105.18s/it]"
          ]
        },
        {
          "output_type": "stream",
          "name": "stdout",
          "text": [
            "⏳ 正在轉檔中... 請稍候（防止閒置中）\n"
          ]
        },
        {
          "output_type": "stream",
          "name": "stderr",
          "text": [
            "\r 53%|█████▎    | 16/30 [30:03<22:30, 96.45s/it] "
          ]
        },
        {
          "output_type": "stream",
          "name": "stdout",
          "text": [
            "⏳ 正在轉檔中... 請稍候（防止閒置中）\n",
            "⏳ 正在轉檔中... 請稍候（防止閒置中）\n"
          ]
        },
        {
          "output_type": "stream",
          "name": "stderr",
          "text": [
            "\r 57%|█████▋    | 17/30 [31:53<21:44, 100.34s/it]"
          ]
        },
        {
          "output_type": "stream",
          "name": "stdout",
          "text": [
            "⏳ 正在轉檔中... 請稍候（防止閒置中）\n"
          ]
        },
        {
          "output_type": "stream",
          "name": "stderr",
          "text": [
            "\r 60%|██████    | 18/30 [32:55<17:45, 88.76s/it] "
          ]
        },
        {
          "output_type": "stream",
          "name": "stdout",
          "text": [
            "⏳ 正在轉檔中... 請稍候（防止閒置中）\n"
          ]
        },
        {
          "output_type": "stream",
          "name": "stderr",
          "text": [
            "\r 63%|██████▎   | 19/30 [34:23<16:16, 88.77s/it]"
          ]
        },
        {
          "output_type": "stream",
          "name": "stdout",
          "text": [
            "⏳ 正在轉檔中... 請稍候（防止閒置中）\n",
            "⏳ 正在轉檔中... 請稍候（防止閒置中）\n"
          ]
        },
        {
          "output_type": "stream",
          "name": "stderr",
          "text": [
            "\r 67%|██████▋   | 20/30 [36:15<15:57, 95.71s/it]"
          ]
        },
        {
          "output_type": "stream",
          "name": "stdout",
          "text": [
            "⏳ 正在轉檔中... 請稍候（防止閒置中）\n",
            "⏳ 正在轉檔中... 請稍候（防止閒置中）\n",
            "⏳ 正在轉檔中... 請稍候（防止閒置中）\n"
          ]
        },
        {
          "output_type": "stream",
          "name": "stderr",
          "text": [
            "\r 70%|███████   | 21/30 [39:18<18:15, 121.72s/it]"
          ]
        },
        {
          "output_type": "stream",
          "name": "stdout",
          "text": [
            "⏳ 正在轉檔中... 請稍候（防止閒置中）\n",
            "⏳ 正在轉檔中... 請稍候（防止閒置中）\n",
            "⏳ 正在轉檔中... 請稍候（防止閒置中）\n"
          ]
        },
        {
          "output_type": "stream",
          "name": "stderr",
          "text": [
            "\r 73%|███████▎  | 22/30 [41:48<17:21, 130.20s/it]"
          ]
        },
        {
          "output_type": "stream",
          "name": "stdout",
          "text": [
            "⏳ 正在轉檔中... 請稍候（防止閒置中）\n",
            "⏳ 正在轉檔中... 請稍候（防止閒置中）\n",
            "⏳ 正在轉檔中... 請稍候（防止閒置中）\n",
            "⏳ 正在轉檔中... 請稍候（防止閒置中）\n",
            "⏳ 正在轉檔中... 請稍候（防止閒置中）\n"
          ]
        },
        {
          "output_type": "stream",
          "name": "stderr",
          "text": [
            "\r 77%|███████▋  | 23/30 [46:46<21:04, 180.70s/it]"
          ]
        },
        {
          "output_type": "stream",
          "name": "stdout",
          "text": [
            "⏳ 正在轉檔中... 請稍候（防止閒置中）\n",
            "⏳ 正在轉檔中... 請稍候（防止閒置中）\n",
            "⏳ 正在轉檔中... 請稍候（防止閒置中）\n",
            "⏳ 正在轉檔中... 請稍候（防止閒置中）\n"
          ]
        },
        {
          "output_type": "stream",
          "name": "stderr",
          "text": [
            "\r 80%|████████  | 24/30 [51:14<20:40, 206.75s/it]"
          ]
        },
        {
          "output_type": "stream",
          "name": "stdout",
          "text": [
            "⏳ 正在轉檔中... 請稍候（防止閒置中）\n",
            "⏳ 正在轉檔中... 請稍候（防止閒置中）\n",
            "⏳ 正在轉檔中... 請稍候（防止閒置中）\n",
            "⏳ 正在轉檔中... 請稍候（防止閒置中）\n"
          ]
        },
        {
          "output_type": "stream",
          "name": "stderr",
          "text": [
            "\r 83%|████████▎ | 25/30 [54:38<17:10, 206.09s/it]"
          ]
        },
        {
          "output_type": "stream",
          "name": "stdout",
          "text": [
            "⏳ 正在轉檔中... 請稍候（防止閒置中）\n",
            "⏳ 正在轉檔中... 請稍候（防止閒置中）\n",
            "⏳ 正在轉檔中... 請稍候（防止閒置中）\n",
            "⏳ 正在轉檔中... 請稍候（防止閒置中）\n"
          ]
        },
        {
          "output_type": "stream",
          "name": "stderr",
          "text": [
            "\r 87%|████████▋ | 26/30 [58:42<14:29, 217.35s/it]"
          ]
        },
        {
          "output_type": "stream",
          "name": "stdout",
          "text": [
            "⏳ 正在轉檔中... 請稍候（防止閒置中）\n",
            "⏳ 正在轉檔中... 請稍候（防止閒置中）\n",
            "⏳ 正在轉檔中... 請稍候（防止閒置中）\n"
          ]
        },
        {
          "output_type": "stream",
          "name": "stderr",
          "text": [
            "\r 90%|█████████ | 27/30 [1:01:37<10:13, 204.65s/it]"
          ]
        },
        {
          "output_type": "stream",
          "name": "stdout",
          "text": [
            "⏳ 正在轉檔中... 請稍候（防止閒置中）\n",
            "⏳ 正在轉檔中... 請稍候（防止閒置中）\n",
            "⏳ 正在轉檔中... 請稍候（防止閒置中）\n"
          ]
        },
        {
          "output_type": "stream",
          "name": "stderr",
          "text": [
            "\r 93%|█████████▎| 28/30 [1:04:42<06:37, 198.95s/it]"
          ]
        },
        {
          "output_type": "stream",
          "name": "stdout",
          "text": [
            "⏳ 正在轉檔中... 請稍候（防止閒置中）\n"
          ]
        },
        {
          "output_type": "stream",
          "name": "stderr",
          "text": [
            "\r 97%|█████████▋| 29/30 [1:05:58<02:41, 161.89s/it]"
          ]
        },
        {
          "output_type": "stream",
          "name": "stdout",
          "text": [
            "⏳ 正在轉檔中... 請稍候（防止閒置中）\n"
          ]
        },
        {
          "output_type": "stream",
          "name": "stderr",
          "text": [
            "100%|██████████| 30/30 [1:06:50<00:00, 133.68s/it]"
          ]
        },
        {
          "output_type": "stream",
          "name": "stdout",
          "text": [
            "✅ 全部完成！字幕與文字檔案已輸出到：\n",
            "📁 分段資料夾：/content/split_audio\n",
            "📄 總文字檔：/content/whisper_all_output.txt\n"
          ]
        },
        {
          "output_type": "stream",
          "name": "stderr",
          "text": [
            "\n"
          ]
        }
      ]
    },
    {
      "cell_type": "markdown",
      "source": [
        "# (二) 取得法說會文字\n",
        "## 1. 請先執行 (1) 安裝 whisper\n",
        "## 2. 再執行 (4) 法說會逐字稿, ...."
      ],
      "metadata": {
        "id": "OjboOjHQ6qOJ"
      }
    },
    {
      "cell_type": "code",
      "source": [
        "# @title (4) 法說會逐字稿，當影片在 Youtube 可直接使用這個\n",
        "!pip install yt-dlp\n",
        "\n",
        "tubeUrl = \"https://www.youtube.com/watch?v=Q6sI_eY6sdU\" # @param {type:\"string\"}\n",
        "import os\n",
        "from yt_dlp import YoutubeDL\n",
        "companyName=\"科技小電報\" # @param {type:\"string\"}\n",
        "model= \"large\" # @param {type:\"string\"}\n",
        "language = \"Chinese\" # @param {type:\"string\"}\n",
        "\n",
        "\n",
        "\n",
        "filename = companyName+\".m4a\"\n",
        "ydl_opts = {'overwrites': True, 'format': 'bestaudio[ext=m4a]', 'outtmpl': filename}\n",
        "with YoutubeDL(ydl_opts) as ydl:\n",
        "    ydl.download([tubeUrl])\n",
        "\n",
        "!whisper \"{filename}\" --model {model} --language {language}\n",
        "\n",
        "from google.colab import files\n",
        "exts=[\"txt\",\"srt\",\"tsv\",\"vtt\"]\n",
        "for ext in exts:\n",
        "  files.download('{}.{}'.format(companyName,ext))"
      ],
      "metadata": {
        "id": "2kNMQIdNgS48",
        "cellView": "form"
      },
      "execution_count": null,
      "outputs": []
    }
  ]
}